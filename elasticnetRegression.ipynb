{
 "cells": [
  {
   "cell_type": "raw",
   "metadata": {},
   "source": [
    "Elastic net regression combines the power of ridge and lasso regression into one algorithm. \n",
    "What this means is that with elastic net the algorithm can remove weak variables altogether \n",
    "as with lasso or to reduce them to close to zero as with ridge.\n",
    "All of these algorithms are examples of regularized regression. "
   ]
  },
  {
   "cell_type": "code",
   "execution_count": 2,
   "metadata": {},
   "outputs": [
    {
     "name": "stdout",
     "output_type": "stream",
     "text": [
      "Collecting pydataset\n",
      "\u001b[?25l  Downloading https://files.pythonhosted.org/packages/4f/15/548792a1bb9caf6a3affd61c64d306b08c63c8a5a49e2c2d931b67ec2108/pydataset-0.2.0.tar.gz (15.9MB)\n",
      "\u001b[K    100% |████████████████████████████████| 15.9MB 1.5MB/s ta 0:00:01\n",
      "\u001b[?25hRequirement already satisfied: pandas in /home/stephen/.local/lib/python3.7/site-packages (from pydataset) (1.0.1)\n",
      "Requirement already satisfied: python-dateutil>=2.6.1 in /home/stephen/anaconda3/lib/python3.7/site-packages (from pandas->pydataset) (2.8.0)\n",
      "Requirement already satisfied: numpy>=1.13.3 in /home/stephen/anaconda3/lib/python3.7/site-packages (from pandas->pydataset) (1.16.2)\n",
      "Requirement already satisfied: pytz>=2017.2 in /home/stephen/anaconda3/lib/python3.7/site-packages (from pandas->pydataset) (2018.9)\n",
      "Requirement already satisfied: six>=1.5 in /home/stephen/anaconda3/lib/python3.7/site-packages (from python-dateutil>=2.6.1->pandas->pydataset) (1.12.0)\n",
      "Building wheels for collected packages: pydataset\n",
      "  Building wheel for pydataset (setup.py) ... \u001b[?25ldone\n",
      "\u001b[?25h  Stored in directory: /home/stephen/.cache/pip/wheels/fe/3f/dc/5d02ccc767317191b12d042dd920fcf3432fab74bc7978598b\n",
      "Successfully built pydataset\n",
      "Installing collected packages: pydataset\n",
      "Successfully installed pydataset-0.2.0\n"
     ]
    }
   ],
   "source": [
    "!pip install pydataset --user "
   ]
  },
  {
   "cell_type": "code",
   "execution_count": 4,
   "metadata": {},
   "outputs": [],
   "source": [
    "from pydataset import data \n",
    "import numpy as np \n",
    "import pandas as pd \n",
    "import matplotlib.pyplot as plt \n",
    "import seaborn as sns\n",
    "from sklearn.model_selection import GridSearchCV"
   ]
  },
  {
   "cell_type": "raw",
   "metadata": {},
   "source": [
    "\" we will be using pydataset marriage satisfaction dataset to do the regression\""
   ]
  },
  {
   "cell_type": "code",
   "execution_count": 5,
   "metadata": {},
   "outputs": [],
   "source": [
    "from sklearn.linear_model import ElasticNet\n",
    "from sklearn.linear_model import LinearRegression\n",
    "from sklearn.metrics import mean_squared_error"
   ]
  },
  {
   "cell_type": "code",
   "execution_count": 7,
   "metadata": {},
   "outputs": [],
   "source": [
    "df = pd.DataFrame(data('Fair'))\n",
    "df.loc[df.sex =='male','sex'] = 0\n",
    "df.loc[df.sex =='female','sex'] = 1\n",
    "df['sex'] = df['sex'].astype(int)\n",
    "df.loc[df.child== 'no', 'child'] = 0\n",
    "df.loc[df.child== 'yes','child'] = 1\n",
    "df['child'] = df['child'].astype(int)\n",
    "x=df[['religious','age','sex','ym','education','occupation','nbaffairs']]\n",
    "y=df['rate']"
   ]
  },
  {
   "cell_type": "code",
   "execution_count": 10,
   "metadata": {},
   "outputs": [],
   "source": [
    "# baseline standard linear regression model"
   ]
  },
  {
   "cell_type": "code",
   "execution_count": 12,
   "metadata": {},
   "outputs": [
    {
     "name": "stdout",
     "output_type": "stream",
     "text": [
      "1.0498738644696668\n"
     ]
    }
   ],
   "source": [
    "regressor = LinearRegression()\n",
    "regressor.fit(x,y)\n",
    "first_model=(mean_squared_error(y_true=y,y_pred=regressor.predict(X)))\n",
    "print(first_model)"
   ]
  },
  {
   "cell_type": "code",
   "execution_count": 13,
   "metadata": {},
   "outputs": [
    {
     "data": {
      "text/plain": [
       "{'religious': 0.04235281110639178,\n",
       " 'age': -0.009059645428673819,\n",
       " 'sex': 0.08882013337087094,\n",
       " 'ym': -0.030458802565476516,\n",
       " 'education': 0.06810255742293699,\n",
       " 'occupation': -0.005979506852998164,\n",
       " 'nbaffairs': -0.07882571247653956}"
      ]
     },
     "execution_count": 13,
     "metadata": {},
     "output_type": "execute_result"
    }
   ],
   "source": [
    "coeff_dict_baseline = {}\n",
    "for coef, feat in zip(regressor.coef_,x.columns):\n",
    "    coeff_dict_baseline[feat] = coef\n",
    "coeff_dict_baseline\n"
   ]
  },
  {
   "cell_type": "code",
   "execution_count": 14,
   "metadata": {},
   "outputs": [],
   "source": [
    "elastic = ElasticNet(normalize=True) # elastic net needs normalized Data to work \n",
    "search=GridSearchCV(estimator=elastic,param_grid={'alpha':np.logspace(-5,2,8),'l1_ratio':[.2,.4,.6,.8]},scoring='neg_mean_squared_error',n_jobs=1,refit=True,cv=10)"
   ]
  },
  {
   "cell_type": "code",
   "execution_count": null,
   "metadata": {},
   "outputs": [],
   "source": [
    "search.fit(x,y)\n",
    "print(search.best_pa)"
   ]
  }
 ],
 "metadata": {
  "kernelspec": {
   "display_name": "Python 3",
   "language": "python",
   "name": "python3"
  },
  "language_info": {
   "codemirror_mode": {
    "name": "ipython",
    "version": 3
   },
   "file_extension": ".py",
   "mimetype": "text/x-python",
   "name": "python",
   "nbconvert_exporter": "python",
   "pygments_lexer": "ipython3",
   "version": "3.7.3"
  }
 },
 "nbformat": 4,
 "nbformat_minor": 2
}
